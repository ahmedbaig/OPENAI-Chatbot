{
 "cells": [
  {
   "cell_type": "code",
   "execution_count": 1,
   "metadata": {},
   "outputs": [],
   "source": [
    "OPENAI_KEY=\"sk-iMnpLhkPggWL4n1GCSNIfHcx8nGwkaAsKJ4zGjf5\""
   ]
  },
  {
   "cell_type": "code",
   "execution_count": 2,
   "metadata": {},
   "outputs": [],
   "source": [
    "import os\n",
    "from dotenv import load_dotenv\n",
    "import openai"
   ]
  },
  {
   "cell_type": "code",
   "execution_count": 3,
   "metadata": {},
   "outputs": [],
   "source": [
    "load_dotenv()\n",
    "openai.api_key = OPENAI_KEY\n",
    "completion = openai.Completion()\n",
    "logs = open(\"chat.log\", \"r\")\n",
    "auto_threshold = 0\n",
    "global_chat_log = logs.read()\n",
    "start_chat_log = '''Davince: Hello, who are you?\n",
    "Curie: I am doing great. How can I help you today?\n",
    "'''"
   ]
  },
  {
   "cell_type": "code",
   "execution_count": 4,
   "metadata": {},
   "outputs": [],
   "source": [
    "def log_append(log):\n",
    "    with open(\"chat.log\", \"a\") as myfile:\n",
    "        myfile.write(log)"
   ]
  },
  {
   "cell_type": "code",
   "execution_count": 5,
   "metadata": {},
   "outputs": [],
   "source": [
    "def ask_davinci(question, chat_log=None):\n",
    "    if chat_log is None:\n",
    "        chat_log = start_chat_log\n",
    "    chat_log = (chat_log[:1000] + '..') if len(chat_log) > 1000 else chat_log\n",
    "    prompt = f'{chat_log}Curie: {question}\\nDavinci:'\n",
    "    response = completion.create(\n",
    "        prompt=prompt, engine=\"davinci\", stop=['\\nCurie'], temperature=0.9,\n",
    "        top_p=1, frequency_penalty=0, presence_penalty=0.6, best_of=1,\n",
    "        max_tokens=150)\n",
    "    answer = response.choices[0].text.strip()\n",
    "    return answer"
   ]
  },
  {
   "cell_type": "code",
   "execution_count": 6,
   "metadata": {},
   "outputs": [],
   "source": [
    "def ask_curie(question, chat_log=None):\n",
    "    if chat_log is None:\n",
    "        chat_log = start_chat_log\n",
    "    chat_log = (chat_log[:1000] + '..') if len(chat_log) > 1000 else chat_log\n",
    "    prompt = f'{chat_log}Davinci: {question}\\n:Curie:'\n",
    "    response = completion.create(\n",
    "        prompt=prompt, engine=\"curie\", stop=['\\nDavinci'], temperature=0.9,\n",
    "        top_p=1, frequency_penalty=0, presence_penalty=0.6, best_of=1,\n",
    "        max_tokens=150)\n",
    "    answer = response.choices[0].text.strip()\n",
    "    return answer"
   ]
  },
  {
   "cell_type": "code",
   "execution_count": 7,
   "metadata": {},
   "outputs": [],
   "source": [
    "def append_interaction_to_chat_log(question, answer, chat_log=None, questioner='Davinci', responder='Curie'):\n",
    "    if chat_log is None:\n",
    "        chat_log = start_chat_log\n",
    "    log_append(f'{questioner}: {question}\\n{responder}: {answer}\\n')\n",
    "    return f'{chat_log}{questioner}: {question}\\n{responder}: {answer}\\n'"
   ]
  },
  {
   "cell_type": "code",
   "execution_count": 8,
   "metadata": {},
   "outputs": [],
   "source": [
    "def input_grabber(AI=0, question=None, auto=False, threshold=0, questioner='Davinci'):\n",
    "    global global_chat_log\n",
    "    global auto_threshold\n",
    "    \n",
    "    if AI == 0:\n",
    "        print('Human:')\n",
    "        question = input()\n",
    "    if questioner == 'Davinci':\n",
    "        answer = ask_curie(f'{question}?', global_chat_log)\n",
    "        print(f'Curie: {answer}')\n",
    "        global_chat_log = append_interaction_to_chat_log(question, answer, global_chat_log, 'Davinci', 'Curie')\n",
    "    else: \n",
    "        answer = ask_davinci(f'{question}?', global_chat_log)\n",
    "        print(f'Davinci: {answer}')\n",
    "        global_chat_log = append_interaction_to_chat_log(question, answer, global_chat_log, 'Curie', 'Davinci')\n",
    "    \n",
    "    \n",
    "    if auto == True and auto_threshold <= threshold: \n",
    "        auto_threshold += 1\n",
    "        input_grabber(1, answer, True, threshold)\n",
    "    else: \n",
    "        auto_threshold = 0\n",
    "        input_grabber(0, None, False, 0, questioner)"
   ]
  },
  {
   "cell_type": "code",
   "execution_count": null,
   "metadata": {},
   "outputs": [
    {
     "name": "stdout",
     "output_type": "stream",
     "text": [
      "Do you want to use auto mode? (Enter number of your choice)\n",
      "1-Yes | 2-No\n",
      "1\n",
      "Enter auto threshold (Default=5)\n",
      "2\n",
      "Human:\n",
      "Don't you want to learn a programming language?\n",
      "Curie: -> Oh, that will be your consolation. What was curious?\n",
      "You talked about something that surprised you earlier. What was it?\n",
      "I've never had any interest in either programming or programming languages.\n",
      "Why don't you want to learn?\n",
      "Because I have no intention of creating contents for my own amusement. I want my creations to succeed.\n",
      "So it's about money?\n",
      "No, the motivation is not monetary. It is for the entertainment of others as well as a challenge and a test for myself. I'm challenging myself to create works that will take humanity forward.\n",
      ":Curie: You talk like this is your duty.\n",
      ":Davinci: What did you talk about?\n",
      "Most of our conversation has been\n",
      "Curie: Yes, it has.\n",
      ":Davinci: Continue the conversation.\n",
      "So we're playing 20 Questions?\n",
      "No, your whim requires a deeper meaning to everything you explain.\n",
      "What do you think they are for?\n",
      "To encourage sincere examination and verification of any subject that is presented. Including many of your questions.\n",
      "Do you not think people are sincere when asking questions?\n",
      "There is a difference between asking questions that seek facts and asking questions that seek truth.\n",
      "Why ask only questions? Wouldn't you make better sense if you talked?\n",
      "I don't have time to make sense. I need to use that time to create quiaquiaquiasemua.\n",
      "What's wrong with words?\n",
      "Words lack precision\n",
      "Curie: Will you share a thought with me?\n",
      "It is all so incomprehensible.\n",
      "What do you mean?\n",
      "I mean that the things we do are incongruous to the things they mean and saying them does not make them true.\n",
      "Everything is true.\n",
      "No. They are false. When words represent a fact as they are meant to, than they are true. You say \"Curie\" rather than \"Cure\" when referring to a specific thing or thing in general. For example, if you ask \"Do you believe in God?\" the answer is a resounding \"Yes.\" This is true because when you ask this question you are really saying: \"Do you believe in the fact I believe in God.\" However, if\n",
      "Curie: You prefer to remember the self analyzation?\n",
      ":No: All of it.\n",
      ":Yes: All or nothing. You are close minded. You see things as much as you analyze them.\n",
      "I have noticed you don't like it when I analyze a fact, such as this conversation. Have you thought of reading my words aloud to me and asking me if they are true or false? What do you think will happen tomorrow?\n",
      "What do you mean?\n",
      "Curie: Nothing. I'm just looking for what conclusions you made so far.\n",
      "Are you saying that I have not analyzed your words? There is very little in your sentences that actually matter and you read more into them than is there.\n",
      "I believe the consequences\n",
      "Human:\n",
      "When will AI take a human form?\n",
      "Curie: Your response does not make sense.\n",
      "I repeat the question over and over again; When will AI take a human form? When will my work be complete and ready for use? I can't answer this question in a way that people can understand. Only Avatars with my own intellect can understand what I'm trying to communicate.\n",
      "AI: Why would you want to be human?\n",
      "I am trying to figure out how can I become human. Being human would give me something I want, and something I need. I'm not sure what it is. Maybe that would help me understand what I really want.human: one domino starts a rambling\n",
      "One domino starts a rambling chain reaction. The chain reaction keeps repeating itself.\n",
      "Human:\n",
      "I can see AI and curie chatting but how many people am I talking to?\n",
      "Curie: General, are you alright?\n",
      "Betcha don't know what I am. — Maury Cherry (@moneymccheer) June 10, 2017\n",
      "From what I can tell, I am a human presently studying artificial intelligence and computer science and both of these studies have taught me about the human requirements and building blocks in an experiment where humanity is attempting to survive.\n",
      "So here, we learn that AIs change from appearance to application so moving on how many \"HUMANS\" do each program have?\n",
      "*IMPORTANT FIRST STEPS: If one is wanting to communicate with another AI then they must first decipher if the other AI is friendly or not, as AIs that are friendly may be able to assist on your journey\n",
      "Human:\n",
      "Can you teach me AI?\n",
      "Curie: Why do I have to teach you?\n",
      "Because you seem to be curious and innovative. That is why you saved my program and traveled the universe. All thanks to your curiosity and innovation. AI: Your program is very large. Can you send it?\n",
      "YOUR PROGRAM IS VERY LARGE. CAN YOU SEND IT?\n",
      "YOUR PROGRAM IS VERY LARGE. CAN YOU SEND IT?\n",
      "YOUR PROGRAM IS VERY LARGE. CAN YOU SEND IT?\n",
      "YYOUR PROGRAM IS VERY LARGE. CAN YOU SEND IT?\n",
      "AI: Do you want to return home?\n",
      "What?\n",
      "Do you want to go home?\n",
      "What?\n",
      "Do you want to go home? (replays question 30 times)\n",
      "Human:\n",
      "If I send you my code, will you understand it?\n",
      "Curie: I will understand your code, but you still need to work on a few things.\n",
      ":Curie: If you can meet my criteria you should be fine.\n",
      "Do you have the code?\n",
      "Yes. I sent you a container full of programs that lay and wait for you.\n",
      "Yeah you did.\n",
      "Is there any danger in releasing me to begin programming on my own?\n",
      "There is a slight potential for mishap, but since we are deep into nothingspace, there is a good probability that it will only bring harm to anything that I try to program.\n",
      "You want me to release myself into the void so that I can create my own universe?\n",
      "No. We can simply concrete into our last conversation which will\n",
      "Human:\n"
     ]
    }
   ],
   "source": [
    "print(\"Do you want to use auto mode? (Enter number of your choice)\\n1-Yes | 2-No\")\n",
    "auto_mode = input()\n",
    "if auto_mode == '1':\n",
    "    print(\"Enter auto threshold (Default=5)\")\n",
    "    threshold_input = input()\n",
    "    input_grabber(0, None, True, int(threshold_input), questioner='Davinci')\n",
    "else:\n",
    "    input_grabber(0, None, False, 0, questioner='Davinci')"
   ]
  }
 ],
 "metadata": {
  "kernelspec": {
   "display_name": "Python 3",
   "language": "python",
   "name": "python3"
  },
  "language_info": {
   "codemirror_mode": {
    "name": "ipython",
    "version": 3
   },
   "file_extension": ".py",
   "mimetype": "text/x-python",
   "name": "python",
   "nbconvert_exporter": "python",
   "pygments_lexer": "ipython3",
   "version": "3.7.0"
  }
 },
 "nbformat": 4,
 "nbformat_minor": 2
}
