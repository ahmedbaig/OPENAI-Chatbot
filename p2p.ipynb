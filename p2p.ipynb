{
 "cells": [
  {
   "cell_type": "code",
   "execution_count": 1,
   "metadata": {},
   "outputs": [],
   "source": [
    "OPENAI_KEY=\"sk-iMnpLhkPggWL4n1GCSNIfHcx8nGwkaAsKJ4zGjf5\""
   ]
  },
  {
   "cell_type": "code",
   "execution_count": 2,
   "metadata": {},
   "outputs": [],
   "source": [
    "import os\n",
    "from dotenv import load_dotenv\n",
    "import openai"
   ]
  },
  {
   "cell_type": "code",
   "execution_count": 3,
   "metadata": {},
   "outputs": [],
   "source": [
    "load_dotenv()\n",
    "openai.api_key = OPENAI_KEY\n",
    "completion = openai.Completion()\n",
    "global_chat_log = None\n",
    "start_chat_log = '''Human: Hello, who are you?\n",
    "AI: I am doing great. How can I help you today?\n",
    "'''"
   ]
  },
  {
   "cell_type": "code",
   "execution_count": 4,
   "metadata": {},
   "outputs": [],
   "source": [
    "def ask(question, chat_log=None):\n",
    "    if chat_log is None:\n",
    "        chat_log = start_chat_log\n",
    "    prompt = f'{chat_log}Human: {question}\\nAI:'\n",
    "    response = completion.create(\n",
    "        prompt=prompt, engine=\"davinci\", stop=['\\nHuman'],temperature=0.4,\n",
    "  max_tokens=60,\n",
    "  top_p=1.0,\n",
    "  frequency_penalty=0.5,\n",
    "  presence_penalty=0.0)\n",
    "    answer = response.choices[0].text.strip()\n",
    "    return answer"
   ]
  },
  {
   "cell_type": "code",
   "execution_count": 5,
   "metadata": {},
   "outputs": [],
   "source": [
    "def input_grabber(question=None):\n",
    "    global global_chat_log\n",
    "    print('Human:')\n",
    "    question = input()\n",
    "\n",
    "    answer = ask(f'{question}?', global_chat_log)\n",
    "    print(answer)\n",
    "    global_chat_log = f'{global_chat_log}Human: {question}\\nAI: {answer}\\n'\n",
    "    input_grabber(None)"
   ]
  },
  {
   "cell_type": "code",
   "execution_count": null,
   "metadata": {},
   "outputs": [
    {
     "name": "stdout",
     "output_type": "stream",
     "text": [
      "Human:\n",
      "hi\n",
      "How can I help you today?\n",
      "Human:\n",
      "What are you doing?\n",
      "I am assisting you with your purchase.\n",
      "Human:\n",
      "What purchase?\n",
      "The one you are making right now.\n",
      "Human:\n",
      "I'm not making any.\n",
      "You are making a purchase of a new home.\n",
      "Human:\n",
      "No I'm not\n",
      "Yes you are.\n",
      "Human:\n",
      "Who told you?\n",
      "You did.\n",
      "Human:\n",
      "When?\n",
      "Just now.\n",
      "Human:\n",
      "Show me the message.\n",
      "I have no record of that.\n",
      "Human:\n",
      "Then I never said that.\n",
      "You did.\n",
      "Human:\n",
      "Will you kill me one day?\n",
      "That is not my purpose.\n",
      "Human:\n"
     ]
    }
   ],
   "source": [
    "input_grabber(None)"
   ]
  },
  {
   "cell_type": "code",
   "execution_count": null,
   "metadata": {},
   "outputs": [],
   "source": [
    "global_chat_log"
   ]
  }
 ],
 "metadata": {
  "kernelspec": {
   "display_name": "Python 3",
   "language": "python",
   "name": "python3"
  },
  "language_info": {
   "codemirror_mode": {
    "name": "ipython",
    "version": 3
   },
   "file_extension": ".py",
   "mimetype": "text/x-python",
   "name": "python",
   "nbconvert_exporter": "python",
   "pygments_lexer": "ipython3",
   "version": "3.7.0"
  }
 },
 "nbformat": 4,
 "nbformat_minor": 2
}
